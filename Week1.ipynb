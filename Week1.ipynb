{
  "nbformat": 4,
  "nbformat_minor": 0,
  "metadata": {
    "colab": {
      "name": "soc w1",
      "provenance": []
    },
    "kernelspec": {
      "name": "python3",
      "display_name": "Python 3"
    },
    "language_info": {
      "name": "python"
    }
  },
  "cells": [
    {
      "cell_type": "code",
      "metadata": {
        "id": "M5BIsdLIXMCJ"
      },
      "source": [
        "%matplotlib inline\n",
        "import matplotlib.pyplot as plt\n",
        "import random\n",
        "import numpy as np\n",
        "import string"
      ],
      "execution_count": 1,
      "outputs": []
    },
    {
      "cell_type": "code",
      "metadata": {
        "id": "cADLwcBRXVxD",
        "colab": {
          "base_uri": "https://localhost:8080/",
          "height": 265
        },
        "outputId": "d248b847-751b-4204-c113-bbab8faf3f05"
      },
      "source": [
        "#q1\n",
        "d1=np.random.randint(low = 1, high = 7, size = 10000000)\n",
        "d2=np.random.randint(low = 1, high = 7, size = 10000000)\n",
        "d=d1+d2\n",
        "plt.hist(d,density=1);"
      ],
      "execution_count": 2,
      "outputs": [
        {
          "output_type": "display_data",
          "data": {
            "image/png": "[encoded data removed]",
            "text/plain": [
              "<Figure size 432x288 with 1 Axes>"
            ]
          },
          "metadata": {
            "tags": [],
            "needs_background": "light"
          }
        }
      ]
    },
    {
      "cell_type": "markdown",
      "metadata": {
        "id": "Ld8jvN00bKlV"
      },
      "source": [
        "#### **Question 2**\n",
        "\n",
        "Data analysis is not only about data collection, but it includes refining of the collected data. Sometimes the data is provide to us beforehand through observational instruments and as a data analyser, our task is to interpret the data and obtain statistical conclusions out of it. For this, we need to build up a proper code and hours of debugging with differnt datatypes and libraries which fit in best into the code. Sometimes our data is in a image/video format, and our task is also to encrypt the visuals into computer readable data in form of numbers or keys."
      ]
    },
    {
      "cell_type": "code",
      "metadata": {
        "colab": {
          "base_uri": "https://localhost:8080/"
        },
        "id": "xtD16Dwjdi6D",
        "outputId": "f7aa93ec-2427-4c49-ce8c-b6e35f336801"
      },
      "source": [
        "#q3 \n",
        "def sort(str):\n",
        "  return sorted(str, key=len)\n",
        "str=[]\n",
        "for i in range(5):\n",
        "  for j in range(3,20):\n",
        "    str.append(''.join(random.choices(string.ascii_uppercase + string.digits, k = j)))\n",
        "str2=sort(str)\n",
        "for i in str2:\n",
        "  print(i)"
      ],
      "execution_count": 3,
      "outputs": [
        {
          "output_type": "stream",
          "text": [
            "13K\n",
            "SID\n",
            "Z65\n",
            "YSQ\n",
            "AME\n",
            "M6O2\n",
            "Q9AU\n",
            "S6KK\n",
            "0280\n",
            "YARO\n",
            "DHP5G\n",
            "1B013\n",
            "EGGPT\n",
            "G27K6\n",
            "ZY9LE\n",
            "MK4QVE\n",
            "2VFL8I\n",
            "52X7L0\n",
            "YISREU\n",
            "X5TEXH\n",
            "OE7PYZA\n",
            "KABYET2\n",
            "0ENMTKZ\n",
            "NXHRGW6\n",
            "JQONK3X\n",
            "EB3S8UNU\n",
            "BHOASMEL\n",
            "1QZN9NZC\n",
            "1YURN04U\n",
            "JM5ONWPA\n",
            "EE54EEEXA\n",
            "WTUTVUVEA\n",
            "MU774TSYO\n",
            "5OY7ENOLK\n",
            "LXHZUE7SL\n",
            "G1OP0GP3RV\n",
            "WB2A6049BP\n",
            "AFI8E652CF\n",
            "3BNGDLP1KB\n",
            "QAH6SWDHFQ\n",
            "7VGK6MRA5OI\n",
            "ZH1SV05XZT8\n",
            "GJYEI6ON9WT\n",
            "FGPBQJGI9I2\n",
            "UMABSUV6DM6\n",
            "NV5UD2CI0SHM\n",
            "C32C3ZQNOBZL\n",
            "Y5YAIX2ZZQA1\n",
            "GKSPIVZGRW77\n",
            "1AQ8XZ4LFPLL\n",
            "FAK9UQFFQ533O\n",
            "ZIHZNF4GU7KAY\n",
            "I2I5SYIVV9W9D\n",
            "152BLKORI6R4R\n",
            "16WZA196JB8SX\n",
            "JE1AJABB5R2DKX\n",
            "YV7YDCL0UV4UMW\n",
            "V08CXLXCTWJBTI\n",
            "ZVXYAUQMEQPEFT\n",
            "S9OXTCRJEOT1AP\n",
            "DO26CUCI26U7GZZ\n",
            "OFVF30AXASV6IA4\n",
            "ZIM4LGVROJPKGZQ\n",
            "ZZEFMKR5K7GAQCW\n",
            "RMH3LZVMRETY2O9\n",
            "E07TNFAROCE1HK3V\n",
            "4DNCYKSF5NWLJZ19\n",
            "6RXQVRHFTTKQZ80Z\n",
            "U3WN3SFCNNKG8CMC\n",
            "CEWYIWPD9ZAKA3YX\n",
            "XJXGITL86AEKQFLV5\n",
            "I8E62ITJ3VQQSATXW\n",
            "J4O82GJXTGC0QU6HQ\n",
            "L4BQ18PQ8UOTGDHGI\n",
            "J53WLGHOGL5VQ1Z66\n",
            "2LB5S7HDQLNEA4Q2GW\n",
            "GCKO13HWBBE7VA9Z6S\n",
            "NAF3W2ILBLKRYJ3ERE\n",
            "B3HZF993GAITEJ8Z4K\n",
            "W6VKEW1P9JNL3SWWVV\n",
            "UBTHHXMUIEBGA1BQ8YN\n",
            "MZJDD48LPFWXSMJ4ZME\n",
            "SB7QMK85HRH1W51URPN\n",
            "FOKFGG6UL2YFSFXIMHI\n",
            "RETY50Q6HOF2HQV2E1S\n"
          ],
          "name": "stdout"
        }
      ]
    }
  ]
}
